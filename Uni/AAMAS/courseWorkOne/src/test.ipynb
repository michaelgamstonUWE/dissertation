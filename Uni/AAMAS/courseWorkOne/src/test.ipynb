{
 "cells": [
  {
   "cell_type": "code",
   "execution_count": 16,
   "metadata": {},
   "outputs": [
    {
     "name": "stdout",
     "output_type": "stream",
     "text": [
      "(1250, 2)\n",
      "(0, 0)\n",
      "(1250, 2)\n",
      "(0, 25)\n"
     ]
    }
   ],
   "source": [
    "import numpy as np\n",
    "\n",
    "for n in range(2): \n",
    "    y_step = 25\n",
    "    width = 50\n",
    "\n",
    "    search_coordinate = []\n",
    "    y_start = n * y_step\n",
    "    for y in range(y_start, (y_step + y_start)): \n",
    "        search_coordinate.extend([(x, y) for x in range(0, width)])\n",
    "    print(np.shape(search_coordinate))\n",
    "    print(search_coordinate[0])\n",
    "    \n",
    "    "
   ]
  },
  {
   "cell_type": "code",
   "execution_count": null,
   "metadata": {},
   "outputs": [],
   "source": []
  }
 ],
 "metadata": {
  "kernelspec": {
   "display_name": "Python 3",
   "language": "python",
   "name": "python3"
  },
  "language_info": {
   "codemirror_mode": {
    "name": "ipython",
    "version": 3
   },
   "file_extension": ".py",
   "mimetype": "text/x-python",
   "name": "python",
   "nbconvert_exporter": "python",
   "pygments_lexer": "ipython3",
   "version": "3.10.12"
  }
 },
 "nbformat": 4,
 "nbformat_minor": 2
}
